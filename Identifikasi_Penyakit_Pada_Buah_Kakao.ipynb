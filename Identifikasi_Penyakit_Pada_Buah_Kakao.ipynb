{
  "nbformat": 4,
  "nbformat_minor": 0,
  "metadata": {
    "colab": {
      "name": "Identifikasi Penyakit Pada Buah Kakao.ipynb",
      "provenance": [],
      "collapsed_sections": [],
      "authorship_tag": "ABX9TyMRlzAq2t2HDQz8U/Mvf+MB",
      "include_colab_link": true
    },
    "kernelspec": {
      "name": "python3",
      "display_name": "Python 3"
    },
    "accelerator": "GPU"
  },
  "cells": [
    {
      "cell_type": "markdown",
      "metadata": {
        "id": "view-in-github",
        "colab_type": "text"
      },
      "source": [
        "<a href=\"https://colab.research.google.com/github/nevalenaginda/Cassava-Disease-Identification/blob/master/Identifikasi_Penyakit_Pada_Buah_Kakao.ipynb\" target=\"_parent\"><img src=\"https://colab.research.google.com/assets/colab-badge.svg\" alt=\"Open In Colab\"/></a>"
      ]
    },
    {
      "cell_type": "code",
      "metadata": {
        "id": "cHjqgmOVLcjz",
        "colab_type": "code",
        "colab": {
          "base_uri": "https://localhost:8080/",
          "height": 36
        },
        "outputId": "80d89013-3d6b-4c7c-b766-9430c4dac476"
      },
      "source": [
        "#mengimport framework tensorflow dan mengecek versi\n",
        "import tensorflow\n",
        "tensorflow.__version__"
      ],
      "execution_count": 2,
      "outputs": [
        {
          "output_type": "execute_result",
          "data": {
            "application/vnd.google.colaboratory.intrinsic+json": {
              "type": "string"
            },
            "text/plain": [
              "'2.3.0'"
            ]
          },
          "metadata": {
            "tags": []
          },
          "execution_count": 2
        }
      ]
    },
    {
      "cell_type": "code",
      "metadata": {
        "id": "vaKNgpDVN4yT",
        "colab_type": "code",
        "colab": {
          "base_uri": "https://localhost:8080/",
          "height": 36
        },
        "outputId": "1c3be537-a0f3-4151-dfbd-29f7b6a1e5a3"
      },
      "source": [
        "#mengecek apakah gpu tersedia\n",
        "tensorflow.test.gpu_device_name()"
      ],
      "execution_count": 3,
      "outputs": [
        {
          "output_type": "execute_result",
          "data": {
            "application/vnd.google.colaboratory.intrinsic+json": {
              "type": "string"
            },
            "text/plain": [
              "'/device:GPU:0'"
            ]
          },
          "metadata": {
            "tags": []
          },
          "execution_count": 3
        }
      ]
    },
    {
      "cell_type": "code",
      "metadata": {
        "id": "-iI1FoJzPHgg",
        "colab_type": "code",
        "colab": {
          "base_uri": "https://localhost:8080/",
          "height": 35
        },
        "outputId": "7bfe405c-a64a-4a39-9056-85bd338912fe"
      },
      "source": [
        "#menghubungkan google collab dengan google drive\n",
        "from google.colab import drive\n",
        "drive.mount('/content/drive')"
      ],
      "execution_count": 5,
      "outputs": [
        {
          "output_type": "stream",
          "text": [
            "Mounted at /content/drive\n"
          ],
          "name": "stdout"
        }
      ]
    },
    {
      "cell_type": "code",
      "metadata": {
        "id": "yoklUBkmOT23",
        "colab_type": "code",
        "colab": {
          "base_uri": "https://localhost:8080/",
          "height": 35
        },
        "outputId": "918070b9-8247-4532-a7d7-0eb16f96a387"
      },
      "source": [
        "#masuk ke direktori kerja di google drive\n",
        "%cd drive/My Drive/Skripsi/Dataset Kakao Resize"
      ],
      "execution_count": 6,
      "outputs": [
        {
          "output_type": "stream",
          "text": [
            "/content/drive/My Drive/Skripsi/Dataset Kakao Resize\n"
          ],
          "name": "stdout"
        }
      ]
    },
    {
      "cell_type": "code",
      "metadata": {
        "id": "s5Q5BA3zPdcm",
        "colab_type": "code",
        "colab": {
          "base_uri": "https://localhost:8080/",
          "height": 54
        },
        "outputId": "7d52042a-3d4e-46ec-c9da-180cb867925e"
      },
      "source": [
        "#menampilkan folder pada direktori kerja\n",
        "!ls"
      ],
      "execution_count": 7,
      "outputs": [
        {
          "output_type": "stream",
          "text": [
            "'Anoreksa Buah Kakao'\t 'Busuk Buah Kakao'\t       'Penggerek Buah Kakao'\n",
            "'Antraknose Buah Kakao'  'Kepik Penghisap Buah Kakao'  'Sehat Buah Kakao'\n"
          ],
          "name": "stdout"
        }
      ]
    },
    {
      "cell_type": "code",
      "metadata": {
        "id": "cE5DIRaaWnkY",
        "colab_type": "code",
        "colab": {}
      },
      "source": [
        "import os\n",
        "import cv2\n",
        "import numpy as np"
      ],
      "execution_count": 29,
      "outputs": []
    },
    {
      "cell_type": "code",
      "metadata": {
        "id": "dHLfobutPr7p",
        "colab_type": "code",
        "colab": {}
      },
      "source": [
        "#menginisialisasi folder dataset\n",
        "folder_data = ['Anoreksa Buah Kakao', 'Antraknose Buah Kakao', 'Busuk Buah Kakao', 'Kepik Penghisap Buah Kakao', 'Penggerek Buah Kakao', 'Sehat Buah Kakao']\n",
        "\n",
        "#memuat alamat gambar pada folder dataset ke variabel fnames\n",
        "fnames = []\n",
        "for folder in folder_data:\n",
        "    file_names = os.listdir(folder)\n",
        "    full_path = [os.path.join(folder, file_name) for file_name in file_names]\n",
        "    fnames.append(full_path)"
      ],
      "execution_count": 24,
      "outputs": []
    },
    {
      "cell_type": "code",
      "metadata": {
        "id": "VA-0wJKWYn-7",
        "colab_type": "code",
        "colab": {
          "base_uri": "https://localhost:8080/",
          "height": 35
        },
        "outputId": "33b8bbd1-d975-4847-f171-277380867963"
      },
      "source": [
        "print('Jumlah alamat gambar setiap folder data:', [len(f) for f in fnames])"
      ],
      "execution_count": 26,
      "outputs": [
        {
          "output_type": "stream",
          "text": [
            "Jumlah alamat gambar setiap folder data: [59, 53, 66, 56, 61, 57]\n"
          ],
          "name": "stdout"
        }
      ]
    },
    {
      "cell_type": "code",
      "metadata": {
        "id": "JDMQiibDZMvP",
        "colab_type": "code",
        "colab": {
          "base_uri": "https://localhost:8080/",
          "height": 35
        },
        "outputId": "b9e8ee7f-6c79-4906-a2cc-341463313184"
      },
      "source": [
        "#memuat setiap gambar dari alamat gambar (fnames) ke variabel images\n",
        "images = []\n",
        "for names in fnames:\n",
        "    one_category_images = [cv2.imread(name) for name in names if (cv2.imread(name)) is not None]\n",
        "    images.append(one_category_images)\n",
        "print('Jumlah gambar setiap folder data:', [len(f) for f in images])"
      ],
      "execution_count": 28,
      "outputs": [
        {
          "output_type": "stream",
          "text": [
            "Jumlah gambar setiap folder data: [59, 53, 66, 56, 61, 57]\n"
          ],
          "name": "stdout"
        }
      ]
    },
    {
      "cell_type": "code",
      "metadata": {
        "id": "bSxUHDQLb89L",
        "colab_type": "code",
        "colab": {
          "base_uri": "https://localhost:8080/",
          "height": 348
        },
        "outputId": "3ec770d5-e818-41c4-8f6e-1aa135e801e2"
      },
      "source": [
        "#melihat ukuran gambar minimal dan maksimal gambar pada masing-masing folder data\n",
        "for i,imgs in enumerate(images):\n",
        "    shapes = [img.shape for img in imgs]\n",
        "    widths = [shape[0] for shape in shapes]\n",
        "    heights = [shape[1] for shape in shapes]\n",
        "    print('%d,%d adalah ukuran gambar minimum untuk %s' % (np.min(widths), np.min(heights), folder_data[i]))\n",
        "    print('%d,%d adalah ukuran gambar maksimum untuk %s \\n' % (np.max(widths), np.max(heights), folder_data[i]))"
      ],
      "execution_count": 31,
      "outputs": [
        {
          "output_type": "stream",
          "text": [
            "1177,1309 adalah ukuran gambar minimum untuk Anoreksa Buah Kakao\n",
            "3385,2585 adalah ukuran gambar maksimum untuk Anoreksa Buah Kakao \n",
            "\n",
            "1177,1001 adalah ukuran gambar minimum untuk Antraknose Buah Kakao\n",
            "4608,2128 adalah ukuran gambar maksimum untuk Antraknose Buah Kakao \n",
            "\n",
            "1465,993 adalah ukuran gambar minimum untuk Busuk Buah Kakao\n",
            "3193,2001 adalah ukuran gambar maksimum untuk Busuk Buah Kakao \n",
            "\n",
            "1745,857 adalah ukuran gambar minimum untuk Kepik Penghisap Buah Kakao\n",
            "4033,2441 adalah ukuran gambar maksimum untuk Kepik Penghisap Buah Kakao \n",
            "\n",
            "1361,897 adalah ukuran gambar minimum untuk Penggerek Buah Kakao\n",
            "2889,2103 adalah ukuran gambar maksimum untuk Penggerek Buah Kakao \n",
            "\n",
            "821,559 adalah ukuran gambar minimum untuk Sehat Buah Kakao\n",
            "2873,2103 adalah ukuran gambar maksimum untuk Sehat Buah Kakao \n",
            "\n"
          ],
          "name": "stdout"
        }
      ]
    }
  ]
}